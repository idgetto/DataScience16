{
 "cells": [
  {
   "cell_type": "markdown",
   "metadata": {},
   "source": [
    "Exercise from Think Stats, 2nd Edition (thinkstats2.com)<br>\n",
    "Allen Downey"
   ]
  },
  {
   "cell_type": "code",
   "execution_count": null,
   "metadata": {
    "collapsed": false
   },
   "outputs": [],
   "source": [
    "%matplotlib inline"
   ]
  },
  {
   "cell_type": "markdown",
   "metadata": {},
   "source": [
    "Suppose one of your co-workers is expecting a baby and you are participating in an office pool to predict the date of birth. Assuming that bets are placed during the 30th week of pregnancy, what variables could you use to make the best prediction? You should limit yourself to variables that are known before the birth, and likely to be available to the people in the pool. "
   ]
  },
  {
   "cell_type": "code",
   "execution_count": 63,
   "metadata": {
    "collapsed": true
   },
   "outputs": [],
   "source": [
    "import nsfg\n",
    "df = nsfg.ReadFemPreg()"
   ]
  },
  {
   "cell_type": "code",
   "execution_count": 64,
   "metadata": {
    "collapsed": false
   },
   "outputs": [
    {
     "name": "stdout",
     "output_type": "stream",
     "text": [
      "              pearson  spearman\n",
      "prglngth     1.000000  1.000000\n",
      "outcome      0.738494  0.789606\n",
      "parity       0.272541  0.255017\n",
      "wantresp     0.198823  0.203856\n",
      "oldwantr     0.198710  0.203884\n",
      "oldwantp     0.185573  0.171102\n",
      "wantpart     0.183213  0.169948\n",
      "hpwnold      0.163656  0.146468\n",
      "pregnum      0.150141  0.126270\n",
      "fmarcon5     0.149385  0.137865\n",
      "datend_i     0.132925  0.123302\n",
      "datecon_i    0.132414  0.122378\n",
      "agecon_i     0.123470  0.113589\n",
      "agepreg_i    0.120842  0.114430\n",
      "poverty      0.111886  0.072126\n",
      "rmarital     0.087367  0.092605\n",
      "fmarital     0.086664  0.090788\n",
      "pncarewk_i   0.085949  0.082594\n",
      "educat       0.075929  0.048979\n",
      "hieduc       0.073817  0.043487\n",
      "pmarpreg_i   0.072958  0.069937\n",
      "rcurpreg     0.072415  0.082847\n",
      "hispanic     0.069856  0.045449\n",
      "wantpart_i   0.062641  0.058936\n",
      "learnprg_i   0.062127  0.072361\n",
      "birthord_i   0.061499  0.057035\n",
      "outcome_i    0.061499  0.057035\n",
      "parity_i     0.060742  0.061266\n",
      "prglngth_i   0.059447  0.093909\n",
      "paydeliv_i   0.059436  0.053797\n",
      "...               ...       ...\n",
      "tryscale          NaN       NaN\n",
      "wantscal          NaN       NaN\n",
      "whyprg1           NaN       NaN\n",
      "whyprg2           NaN       NaN\n",
      "whynouse1         NaN       NaN\n",
      "whynouse2         NaN       NaN\n",
      "whynouse3         NaN       NaN\n",
      "birthord          NaN       NaN\n",
      "datend            NaN       NaN\n",
      "agepreg           NaN       NaN\n",
      "fmarout5          NaN       NaN\n",
      "pmarpreg          NaN       NaN\n",
      "rmarout6          NaN       NaN\n",
      "learnprg          NaN       NaN\n",
      "pncarewk          NaN       NaN\n",
      "paydeliv          NaN       NaN\n",
      "lbw1              NaN       NaN\n",
      "bfeedwks          NaN       NaN\n",
      "maternlv          NaN       NaN\n",
      "yrstrus           NaN       NaN\n",
      "ager_i            NaN       NaN\n",
      "fmarital_i        NaN       NaN\n",
      "rmarital_i        NaN       NaN\n",
      "race_i            NaN       NaN\n",
      "hisprace_i        NaN       NaN\n",
      "rcurpreg_i        NaN       NaN\n",
      "pregnum_i         NaN       NaN\n",
      "metro_i           NaN       NaN\n",
      "cmintvw           NaN       NaN\n",
      "totalwgt_lb       NaN       NaN\n",
      "\n",
      "[244 rows x 2 columns]\n"
     ]
    }
   ],
   "source": [
    "import thinkstats2\n",
    "import pandas as pd\n",
    "import math\n",
    "\n",
    "cor = pd.DataFrame(index = df.columns)\n",
    "\n",
    "for feature in df.columns:\n",
    "    cor.loc[feature, 'pearson'] = abs(thinkstats2.Corr(df[feature], df.prglngth))\n",
    "    cor.loc[feature, 'spearman'] = abs(thinkstats2.SpearmanCorr(df[feature], df.prglngth))\n",
    "    \n",
    "print cor.sort_values(by='pearson', ascending=False)"
   ]
  },
  {
   "cell_type": "code",
   "execution_count": 85,
   "metadata": {
    "collapsed": false
   },
   "outputs": [
    {
     "name": "stdout",
     "output_type": "stream",
     "text": [
      "                  pearson  spearman            r2             p\n",
      "caseid           0.012622  0.013633  9.998407e-01  9.999203e-01\n",
      "pregordr         0.057760  0.037535  9.966637e-01  9.983305e-01\n",
      "howpreg_n             NaN       NaN  7.652855e-01  8.748060e-01\n",
      "howpreg_p             NaN       NaN  9.851035e-01  9.925238e-01\n",
      "moscurrp              NaN       NaN  6.432386e-04  2.536215e-02\n",
      "nowprgdk              NaN       NaN  7.771561e-16  2.787752e-08\n",
      "pregend1              NaN       NaN  2.539247e-01  5.039094e-01\n",
      "pregend2              NaN       NaN  9.004885e-01  9.489407e-01\n",
      "nbrnaliv              NaN       NaN  9.849686e-01  9.924558e-01\n",
      "multbrth              NaN       NaN  9.263940e-01  9.624936e-01\n",
      "cmotpreg              NaN       NaN  9.999953e-01  9.999976e-01\n",
      "prgoutcome            NaN       NaN  2.520795e-01  5.020752e-01\n",
      "cmprgend              NaN       NaN  9.859182e-01  9.929341e-01\n",
      "flgdkmo1              NaN       NaN  9.999633e-01  9.999817e-01\n",
      "cmprgbeg              NaN       NaN  9.999998e-01  9.999999e-01\n",
      "ageatend              NaN       NaN  9.941171e-01  9.970542e-01\n",
      "hpageend              NaN       NaN  9.997519e-01  9.998760e-01\n",
      "gestasun_m            NaN       NaN  9.880271e-01  9.939955e-01\n",
      "gestasun_w            NaN       NaN  9.740585e-01  9.869440e-01\n",
      "wksgest               NaN       NaN  3.749459e-03  6.123283e-02\n",
      "mosgest               NaN       NaN  1.085289e-01  3.294373e-01\n",
      "dk1gest               NaN       NaN           NaN  3.294373e-01\n",
      "dk2gest               NaN       NaN -8.881784e-16  3.294373e-01\n",
      "dk3gest               NaN       NaN  6.760405e-01  8.222168e-01\n",
      "bpa_bdscheck1         NaN       NaN  9.923936e-01  9.961895e-01\n",
      "bpa_bdscheck2         NaN       NaN  1.000000e+00  1.000000e+00\n",
      "bpa_bdscheck3         NaN       NaN  1.000000e+00  1.000000e+00\n",
      "babysex               NaN       NaN  9.997571e-01  9.998786e-01\n",
      "birthwgt_lb           NaN       NaN  7.646146e-01  8.744224e-01\n",
      "birthwgt_oz           NaN       NaN  9.984278e-01  9.992136e-01\n",
      "...                   ...       ...           ...           ...\n",
      "bfeedwks_i       0.049098  0.034213  9.975893e-01  9.987939e-01\n",
      "maternlv_i       0.052526  0.044074  9.972410e-01  9.986196e-01\n",
      "oldwantr_i       0.041284  0.040910  9.982956e-01  9.991474e-01\n",
      "oldwantp_i       0.051888  0.050714  9.973077e-01  9.986529e-01\n",
      "wantresp_i       0.041284  0.040910  9.982956e-01  9.991474e-01\n",
      "wantpart_i       0.062641  0.058936  9.960761e-01  9.980361e-01\n",
      "ager_i                NaN       NaN  1.000000e+00  1.000000e+00\n",
      "fmarital_i            NaN       NaN  1.000000e+00  1.000000e+00\n",
      "rmarital_i            NaN       NaN  1.000000e+00  1.000000e+00\n",
      "educat_i         0.018045  0.014309  9.996744e-01  9.998372e-01\n",
      "hieduc_i         0.014500  0.007903  9.997897e-01  9.998949e-01\n",
      "race_i                NaN       NaN  1.000000e+00  1.000000e+00\n",
      "hispanic_i       0.008991  0.002932  9.999192e-01  9.999596e-01\n",
      "hisprace_i            NaN       NaN  1.000000e+00  1.000000e+00\n",
      "rcurpreg_i            NaN       NaN  1.000000e+00  1.000000e+00\n",
      "pregnum_i             NaN       NaN  1.000000e+00  1.000000e+00\n",
      "parity_i         0.060742  0.061266  9.963104e-01  9.981535e-01\n",
      "insuranc_i       0.007016  0.002212  9.999508e-01  9.999754e-01\n",
      "pubassis_i       0.018481  0.012252  9.996584e-01  9.998292e-01\n",
      "poverty_i        0.019423  0.007008  9.996228e-01  9.998114e-01\n",
      "laborfor_i       0.010526  0.005504  9.998892e-01  9.999446e-01\n",
      "religion_i       0.010004  0.007643  9.998999e-01  9.999500e-01\n",
      "metro_i               NaN       NaN  1.000000e+00  1.000000e+00\n",
      "basewgt          0.042520  0.068486  9.981921e-01  9.990956e-01\n",
      "adj_mod_basewgt  0.039444  0.073559  9.984442e-01  9.992218e-01\n",
      "finalwgt         0.030397  0.062567  9.990761e-01  9.995379e-01\n",
      "secu_p           0.010548  0.012595  9.998887e-01  9.999444e-01\n",
      "sest             0.027305  0.018407  9.992544e-01  9.996271e-01\n",
      "cmintvw               NaN       NaN           NaN           NaN\n",
      "totalwgt_lb           NaN       NaN  7.559508e-01  8.694543e-01\n",
      "\n",
      "[244 rows x 4 columns]\n"
     ]
    }
   ],
   "source": [
    "from sklearn import linear_model\n",
    "clf = linear_model.LinearRegression()\n",
    "\n",
    "prglngth = df.prglngth.reshape((len(df), 1))\n",
    "\n",
    "for feature in df.columns:\n",
    "    if (feature == 'caseid'):\n",
    "        continue\n",
    "    \n",
    "    frame = df.dropna(subset=[feature])\n",
    "    if (len(frame[feature]) == 0):\n",
    "        continue\n",
    "\n",
    "    data = frame[feature].reshape((len(frame), 1))\n",
    "    clf.fit(data, frame.prglngth)\n",
    "    y_pred = clf.predict(data)\n",
    "    \n",
    "    r2 = thinkstats2.CoefDetermination(frame.prglngth, y_pred)\n",
    "    if (r2 > 0):\n",
    "        p = math.sqrt(r2)\n",
    "    \n",
    "    cor.loc[feature, 'r2'] = r2\n",
    "    cor.loc[feature, 'p'] = p\n",
    "    \n",
    "print cor"
   ]
  },
  {
   "cell_type": "markdown",
   "metadata": {},
   "source": [
    "## Clarifying Questions\n",
    "\n",
    "Use this space to ask questions regarding the content covered in the reading. These questions should be restricted to helping you better understand the material. For questions that push beyond what is in the reading, use the next answer field. If you don't have a fully formed question, but are generally having a difficult time with a topic, you can indicate that here as well."
   ]
  },
  {
   "cell_type": "code",
   "execution_count": null,
   "metadata": {
    "collapsed": true
   },
   "outputs": [],
   "source": []
  },
  {
   "cell_type": "markdown",
   "metadata": {},
   "source": []
  },
  {
   "cell_type": "markdown",
   "metadata": {},
   "source": [
    "## Enrichment Questions\n",
    "\n",
    "Use this space to ask any questions that go beyond (but are related to) the material presented in this reading. Perhaps there is a particular topic you'd like to see covered in more depth. Perhaps you'd like to know how to use a library in a way that wasn't show in the reading. One way to think about this is what additional topics would you want covered in the next class (or addressed in a followup e-mail to the class). I'm a little fuzzy on what stuff will likely go here, so we'll see how things evolve."
   ]
  },
  {
   "cell_type": "markdown",
   "metadata": {},
   "source": []
  },
  {
   "cell_type": "markdown",
   "metadata": {},
   "source": [
    "## Additional Resources / Explorations\n",
    "\n",
    "If you found any useful resources, or tried some useful exercises that you'd like to report please do so here. Let us know what you did, what you learned, and how others can replicate it."
   ]
  },
  {
   "cell_type": "markdown",
   "metadata": {},
   "source": []
  }
 ],
 "metadata": {
  "kernelspec": {
   "display_name": "Python 2",
   "language": "python",
   "name": "python2"
  },
  "language_info": {
   "codemirror_mode": {
    "name": "ipython",
    "version": 2
   },
   "file_extension": ".py",
   "mimetype": "text/x-python",
   "name": "python",
   "nbconvert_exporter": "python",
   "pygments_lexer": "ipython2",
   "version": "2.7.11"
  }
 },
 "nbformat": 4,
 "nbformat_minor": 0
}
